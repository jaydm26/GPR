{
 "cells": [
  {
   "cell_type": "markdown",
   "metadata": {},
   "source": [
    "# Gaussian Process Regression"
   ]
  },
  {
   "cell_type": "markdown",
   "metadata": {},
   "source": [
    "Previously we attempted to approximate a function $f(x)$ as a Gaussian of the form $\\mathcal{N}(m(x), k(x,x'))$ using GPR.\n",
    "\n",
    "Mathematically, \n",
    "<body> <center>$ y = f(x) + \\epsilon$, where $\\epsilon \\sim \\mathcal{N}(0,\\sigma^2)$</center><body>\n",
    "    \n",
    "As stated above, we approximate $f(x) \\sim GP(m(x), k(x,x'))$"
   ]
  },
  {
   "cell_type": "markdown",
   "metadata": {},
   "source": [
    "In the example, the observation was noise (note $\\epsilon$). In this example, let us include noise on the input side too. Take the example given below\n",
    "\n",
    "A vehicle is moving at 2m/s (plus an additional noise $\\mathcal{N}(0,0.09)$) in a particular direction. It's position is obtained through a noisy sensor ($\\mathcal{N}(0,0.25)$). It is our task to determine a model that can fit the data obtained from the sensor. Assume the vehicle starts from rest."
   ]
  },
  {
   "cell_type": "code",
   "execution_count": 1,
   "metadata": {},
   "outputs": [],
   "source": [
    "import numpy as np\n",
    "import torch\n",
    "import gpytorch\n",
    "import matplotlib.pyplot as plt\n",
    "%matplotlib inline"
   ]
  },
  {
   "cell_type": "markdown",
   "metadata": {},
   "source": [
    "The true behaviour of the vehicle is obviously still described by \n",
    "<body><center> $y = vx$ </center></body>"
   ]
  },
  {
   "cell_type": "code",
   "execution_count": 2,
   "metadata": {},
   "outputs": [
    {
     "data": {
      "text/plain": [
       "Text(0, 0.5, 'Positon(m)')"
      ]
     },
     "execution_count": 2,
     "metadata": {},
     "output_type": "execute_result"
    },
    {
     "data": {
      "image/png": "[encoded data removed]",
      "text/plain": [
       "<Figure size 432x288 with 1 Axes>"
      ]
     },
     "metadata": {
      "needs_background": "light"
     },
     "output_type": "display_data"
    }
   ],
   "source": [
    "train_X = np.linspace(0,10,100)\n",
    "train_Y = 2 * train_X\n",
    "plt.scatter(train_X, train_Y)\n",
    "plt.xlabel('Time(s)')\n",
    "plt.ylabel('Positon(m)')"
   ]
  },
  {
   "cell_type": "markdown",
   "metadata": {},
   "source": [
    "The above is a perfect (noise-free system). Now consider the same with noise (as described in the question)."
   ]
  },
  {
   "cell_type": "code",
   "execution_count": 3,
   "metadata": {},
   "outputs": [
    {
     "data": {
      "text/plain": [
       "Text(0, 0.5, 'Positon(m)')"
      ]
     },
     "execution_count": 3,
     "metadata": {},
     "output_type": "execute_result"
    },
    {
     "data": {
      "image/png": "[encoded data removed]",
      "text/plain": [
       "<Figure size 432x288 with 1 Axes>"
      ]
     },
     "metadata": {
      "needs_background": "light"
     },
     "output_type": "display_data"
    }
   ],
   "source": [
    "np.random.seed(12)\n",
    "σ = np.sqrt(0.25)\n",
    "σ_x = np.sqrt(0.09)\n",
    "train_x_mean = torch.linspace(0,10,100)[np.random.randint(0,100,25)]\n",
    "train_x_std_dev = torch.ones(train_x_mean.size()) * (σ_x**2)\n",
    "train_y = torch.Tensor(2 * train_x_mean + torch.randn(train_x_mean.size()) * σ**2)\n",
    "fig, ax = plt.subplots(1,1)\n",
    "ax.errorbar(train_x_mean, train_y, xerr=(train_x_std_dev * 2), fmt = \"o\", label=\"Train Data\")\n",
    "ax.legend()\n",
    "ax.set_xlabel('Time(s)')\n",
    "ax.set_ylabel('Positon(m)')"
   ]
  },
  {
   "cell_type": "markdown",
   "metadata": {},
   "source": [
    "This is a noisy sensor reading. Now, from high school physics, we know that the above model is given by \n",
    "\n",
    "<body> <center> $\\dfrac{dy}{dx} = v$ </center> </body>\n",
    "\n",
    "or\n",
    "\n",
    "<body> <center> $y = vx + \\epsilon$ </center> </body>\n",
    "\n",
    "where, $v$ is the velocity, $x$ is the time, $y$ is the position and $\\epsilon$ is the noise as described in the question. We are given $v|_{x = 0} = 0$\n",
    "\n",
    "Since we are also given an uncertainty in the velocity, we have to account for it in our model. We can do this by using a distributional kernel, if we know the underlying distribution of the uncertain input, or by using variational inference.\n",
    "\n",
    "First, let us see the example using a distributional kernel."
   ]
  },
  {
   "cell_type": "code",
   "execution_count": 4,
   "metadata": {},
   "outputs": [],
   "source": [
    "train_x_distributional = torch.stack((train_x_mean, (train_x_std_dev**2).log()), dim=1)"
   ]
  },
  {
   "cell_type": "code",
   "execution_count": 67,
   "metadata": {},
   "outputs": [],
   "source": [
    "class ExactGPModel(gpytorch.models.ExactGP):\n",
    "    def __init__(self, train_x, train_y, likelihood):\n",
    "        super(ExactGPModel, self).__init__(train_x, train_y, likelihood)\n",
    "        self.mean_module = gpytorch.means.ConstantMean()\n",
    "        self.covar_module = gpytorch.kernels.ScaleKernel(gpytorch.kernels.GaussianSymmetrizedKLKernel())\n",
    "\n",
    "    def forward(self, x):\n",
    "        mean_x = self.mean_module(x)\n",
    "        covar_x = self.covar_module(x)\n",
    "        return gpytorch.distributions.MultivariateNormal(mean_x, covar_x)\n",
    "\n",
    "# initialize likelihood and model\n",
    "likelihood = gpytorch.likelihoods.GaussianLikelihood()\n",
    "model = ExactGPModel(train_x_distributional, train_y, likelihood)"
   ]
  },
  {
   "cell_type": "markdown",
   "metadata": {},
   "source": [
    "Here, we have defined an Exact Gaussian Process model (Exact in the sense that the prior, likelihood, and the posterior are all Gaussian distributions).\n",
    "\n",
    "We initialise the class using the ExactGP model predefined in GPyTorch. The initialisation involves declaring the training data (X,Y) and the likelihood distribution.\n",
    "\n",
    "Further, when initialising, we initialise the mean and covariance of the GP model. Note here that the covariance module is now a Gaussian Symmetric KL Kernel instead of an RBF Kernel. This kernel is attempting to find the ideal parameters of $q(u)$ such that $KL(q(u)||p(u))$ is minimum ($KL(.||.)$ stands for the Kullback Liebler Divergence).\n",
    "\n",
    "Next, we define the forward pass. The forward pass is used to predict when a new $x$ is provided. The forward pass returns the multivariate normal distribution with the proper mean and covariance based on the $x$."
   ]
  },
  {
   "cell_type": "code",
   "execution_count": 68,
   "metadata": {
    "scrolled": true
   },
   "outputs": [
    {
     "name": "stdout",
     "output_type": "stream",
     "text": [
      "('likelihood.noise_covar.raw_noise', Parameter containing:\n",
      "tensor([0.], requires_grad=True))\n",
      "('mean_module.constant', Parameter containing:\n",
      "tensor([0.], requires_grad=True))\n",
      "('covar_module.raw_outputscale', Parameter containing:\n",
      "tensor(0., requires_grad=True))\n",
      "('covar_module.base_kernel.raw_lengthscale', Parameter containing:\n",
      "tensor([[0.]], requires_grad=True))\n"
     ]
    }
   ],
   "source": [
    "for x in model.named_parameters():\n",
    "    print(x)"
   ]
  },
  {
   "cell_type": "markdown",
   "metadata": {},
   "source": [
    "The KL between two Gaussians is given by:\n",
    "    \n",
    "<body> <center> $KL(p,q) = log\\dfrac{\\sigma_p}{\\sigma_q} + \\dfrac{\\sigma_p^2 + (\\mu_p - \\mu_q)^2}{2\\sigma_q^2} - \\dfrac{1}{2}$ </center> </body>\n",
    "\n",
    "By training, we are attempting to minimise the divergence (\"distance\") between the two distributions."
   ]
  },
  {
   "cell_type": "code",
   "execution_count": 69,
   "metadata": {},
   "outputs": [],
   "source": [
    "# Find optimal model hyperparameters\n",
    "model.train()\n",
    "likelihood.train()\n",
    "training_iter = 3000\n",
    "\n",
    "# Use the adam optimizer\n",
    "optimizer = torch.optim.Adam(model.parameters(), lr=0.1)  # Includes GaussianLikelihood parameters\n",
    "\n",
    "# \"Loss\" for GPs - the marginal log likelihood\n",
    "mll = gpytorch.mlls.ExactMarginalLogLikelihood(likelihood, model)\n",
    "\n",
    "for i in range(training_iter):\n",
    "    # Zero gradients from previous iteration\n",
    "    optimizer.zero_grad()\n",
    "    # Output from model\n",
    "    output = model(train_x_distributional)\n",
    "    # Calc loss and backprop gradients\n",
    "    loss = -mll(output, train_y)\n",
    "    loss.backward()\n",
    "#     print('Iter %d/%d - Loss: %.3f   lengthscale: %.3f   noise: %.3f' % (\n",
    "#         i + 1, training_iter, loss.item(),\n",
    "#         model.covar_module.base_kernel.lengthscale.item(),\n",
    "#         model.likelihood.noise.item()\n",
    "#     ))\n",
    "    optimizer.step()"
   ]
  },
  {
   "cell_type": "code",
   "execution_count": 70,
   "metadata": {},
   "outputs": [
    {
     "data": {
      "text/plain": [
       "GaussianLikelihood(\n",
       "  (noise_covar): HomoskedasticNoise(\n",
       "    (raw_noise_constraint): GreaterThan(1.000E-04)\n",
       "  )\n",
       ")"
      ]
     },
     "execution_count": 70,
     "metadata": {},
     "output_type": "execute_result"
    }
   ],
   "source": [
    "model.eval()\n",
    "likelihood.eval()"
   ]
  },
  {
   "cell_type": "code",
   "execution_count": 71,
   "metadata": {},
   "outputs": [
    {
     "name": "stderr",
     "output_type": "stream",
     "text": [
      "/Users/jaymehta/miniconda3/lib/python3.7/site-packages/gpytorch/lazy/lazy_tensor.py:1356: NumericalWarning: Runtime Error when computing Cholesky decomposition: Matrix not positive definite after repeatedly adding jitter up to 1.0e-04. Original error on first attempt: cholesky_cpu: U(2,2) is zero, singular U.. Using RootDecomposition.\n",
      "  NumericalWarning,\n"
     ]
    }
   ],
   "source": [
    "test_x = torch.linspace(0, 10, 100)\n",
    "test_x_distributional = torch.stack((test_x, (σ_x * torch.ones_like(test_x)).log()), dim=1)\n",
    "f_pred = model(test_x_distributional)\n",
    "y_pred = likelihood(model(test_x_distributional))\n",
    "\n",
    "f_mean = f_pred.mean\n",
    "f_var = f_pred.variance\n",
    "f_covar = f_pred.covariance_matrix\n",
    "f_samples = f_pred.sample(sample_shape=torch.Size([100]))"
   ]
  },
  {
   "cell_type": "code",
   "execution_count": 72,
   "metadata": {},
   "outputs": [],
   "source": [
    "with torch.no_grad(), gpytorch.settings.fast_pred_var():\n",
    "#     test_x = torch.linspace(0, 1, 51)\n",
    "    observed_pred = likelihood(model(test_x_distributional))"
   ]
  },
  {
   "cell_type": "code",
   "execution_count": 73,
   "metadata": {},
   "outputs": [
    {
     "data": {
      "image/png": "[encoded data removed]",
      "text/plain": [
       "<Figure size 288x216 with 1 Axes>"
      ]
     },
     "metadata": {
      "needs_background": "light"
     },
     "output_type": "display_data"
    }
   ],
   "source": [
    "with torch.no_grad():\n",
    "    # Initialize plot\n",
    "    f, ax = plt.subplots(1, 1, figsize=(4, 3))\n",
    "\n",
    "    # Get upper and lower confidence bounds\n",
    "    lower, upper = observed_pred.confidence_region()\n",
    "    # Plot training data as black stars\n",
    "    ax.errorbar(train_x_mean.numpy(), train_y.numpy(), xerr=(train_x_std_dev * 2), fmt = 'r.')\n",
    "    # Plot predictive means as blue line\n",
    "    ax.plot(test_x.numpy(), observed_pred.mean.numpy(), 'b')\n",
    "    # Shade between the lower and upper confidence bounds\n",
    "    ax.fill_between(test_x.numpy(), lower.numpy(), upper.numpy(), alpha=0.5)\n",
    "    ax.legend(['Mean', 'Confidence', 'Observed Data'])\n",
    "    ax.set_xlabel('Time(s)')\n",
    "    ax.set_ylabel('Position(m)')"
   ]
  },
  {
   "cell_type": "markdown",
   "metadata": {},
   "source": [
    "Note here that the blue line is almost having the correct slop until the end of the data where there is a lack of data. The line is flattening as it starts to revert to the prior for $\\mu$ which was a constant."
   ]
  },
  {
   "cell_type": "code",
   "execution_count": null,
   "metadata": {},
   "outputs": [],
   "source": []
  },
  {
   "cell_type": "code",
   "execution_count": null,
   "metadata": {},
   "outputs": [],
   "source": []
  }
 ],
 "metadata": {
  "kernelspec": {
   "display_name": "Python 3",
   "language": "python",
   "name": "python3"
  },
  "language_info": {
   "codemirror_mode": {
    "name": "ipython",
    "version": 3
   },
   "file_extension": ".py",
   "mimetype": "text/x-python",
   "name": "python",
   "nbconvert_exporter": "python",
   "pygments_lexer": "ipython3",
   "version": "3.7.2"
  }
 },
 "nbformat": 4,
 "nbformat_minor": 4
}
