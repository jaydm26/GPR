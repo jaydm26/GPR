{
 "cells": [
  {
   "cell_type": "markdown",
   "metadata": {},
   "source": [
    "# Gaussian Process Regression"
   ]
  },
  {
   "cell_type": "markdown",
   "metadata": {},
   "source": [
    "GPR attempts to approximate a function $f(x)$ as a Gaussian of the form $\\mathcal{N}(m(x), k(x,x'))$.\n",
    "\n",
    "Mathematically, \n",
    "<body> <center>$ y = f(x) + \\epsilon$, where $\\epsilon \\sim \\mathcal{N}(0,\\sigma^2)$</center><body>\n",
    "    \n",
    "As stated above, we approximate $f(x) \\sim GP(m(x), k(x,x'))$"
   ]
  },
  {
   "cell_type": "markdown",
   "metadata": {},
   "source": [
    "Let us first consider a linear time series example:\n",
    "\n",
    "A vehicle is moving at 2m/s in a particular direction. It's position is obtained through a noisy sensor ($\\mathcal{N}(0,0.25)$). It is our task to determine a model that can fit the data obtained from the sensor. Assume the vehicle starts from rest."
   ]
  },
  {
   "cell_type": "code",
   "execution_count": 1,
   "metadata": {},
   "outputs": [],
   "source": [
    "import numpy as np\n",
    "import torch\n",
    "import gpytorch\n",
    "import matplotlib.pyplot as plt\n",
    "%matplotlib inline"
   ]
  },
  {
   "cell_type": "code",
   "execution_count": 2,
   "metadata": {},
   "outputs": [
    {
     "data": {
      "text/plain": [
       "Text(0, 0.5, 'Positon(m)')"
      ]
     },
     "execution_count": 2,
     "metadata": {},
     "output_type": "execute_result"
    },
    {
     "data": {
      "image/png": "[encoded data removed]",
      "text/plain": [
       "<Figure size 432x288 with 1 Axes>"
      ]
     },
     "metadata": {
      "needs_background": "light"
     },
     "output_type": "display_data"
    }
   ],
   "source": [
    "train_X = np.linspace(0,10,100)\n",
    "train_Y = 2 * train_X\n",
    "plt.scatter(train_X, train_Y)\n",
    "plt.xlabel('Time(s)')\n",
    "plt.ylabel('Positon(m)')"
   ]
  },
  {
   "cell_type": "markdown",
   "metadata": {},
   "source": [
    "The above is a perfect (noise-free system). Now consider the same with noise (as described in the question)."
   ]
  },
  {
   "cell_type": "code",
   "execution_count": 3,
   "metadata": {},
   "outputs": [
    {
     "data": {
      "text/plain": [
       "Text(0, 0.5, 'Positon(m)')"
      ]
     },
     "execution_count": 3,
     "metadata": {},
     "output_type": "execute_result"
    },
    {
     "data": {
      "image/png": "[encoded data removed]",
      "text/plain": [
       "<Figure size 432x288 with 1 Axes>"
      ]
     },
     "metadata": {
      "needs_background": "light"
     },
     "output_type": "display_data"
    }
   ],
   "source": [
    "np.random.seed(12)\n",
    "σ = np.sqrt(0.25)\n",
    "train_x = torch.linspace(0,10,100)[np.random.randint(0,100,25)]\n",
    "train_y = torch.Tensor(2 * train_x + torch.randn(train_x.size()) * σ**2)\n",
    "plt.scatter(train_x, train_y)\n",
    "plt.xlabel('Time(s)')\n",
    "plt.ylabel('Positon(m)')"
   ]
  },
  {
   "cell_type": "markdown",
   "metadata": {},
   "source": [
    "This is a noisy sensor reading. Now, from high school physics, we know that the above model is given by \n",
    "\n",
    "<body> <center> $\\dfrac{dy}{dx} = v$ </center> </body>\n",
    "\n",
    "or\n",
    "\n",
    "<body> <center> $y = vx + \\epsilon$ </center> </body>\n",
    "\n",
    "where, $v$ is the velocity, $x$ is the time, $y$ is the position and $\\epsilon$ is the noise as described in the question. We are given $v|_{x = 0} = 0$\n",
    "\n",
    "But assume for a second that we do not know the underlying model. How do we pick a model that will satisfy the data observed? Given the sparse data that we have, we can't absolutely certain of a model (linear, quadratic, cubic, logarithmic, sum of sines and cosines, etc.). Instead of selecting a model and fitting it, we can perform GPR such that it takes into account all models."
   ]
  },
  {
   "cell_type": "code",
   "execution_count": 4,
   "metadata": {},
   "outputs": [],
   "source": [
    "class ExactGPModel(gpytorch.models.ExactGP):\n",
    "    def __init__(self, train_x, train_y, likelihood):\n",
    "        super(ExactGPModel, self).__init__(train_x, train_y, likelihood)\n",
    "        self.mean_module = gpytorch.means.ConstantMean()\n",
    "        self.covar_module = gpytorch.kernels.ScaleKernel(gpytorch.kernels.RBFKernel())\n",
    "\n",
    "    def forward(self, x):\n",
    "        mean_x = self.mean_module(x)\n",
    "        covar_x = self.covar_module(x)\n",
    "        return gpytorch.distributions.MultivariateNormal(mean_x, covar_x)\n",
    "\n",
    "# initialize likelihood and model\n",
    "likelihood = gpytorch.likelihoods.GaussianLikelihood()\n",
    "model = ExactGPModel(train_x, train_y, likelihood)"
   ]
  },
  {
   "cell_type": "markdown",
   "metadata": {},
   "source": [
    "Here, we have defined an Exact Gaussian Process model (Exact in the sense that the prior, likelihood, and the posterior are all Gaussian distributions).\n",
    "\n",
    "We initialise the class using the ExactGP model predefined in GPyTorch. The initialisation involves declaring the training data (X,Y) and the likelihood distribution.\n",
    "\n",
    "Further, when initialising, we initialise the mean and covariance of the GP model.\n",
    "\n",
    "Next, we define the forward pass. The forward pass is used to predict when a new $x$ is provided. The forward pass returns the multivariate normal distribution with the proper mean and covariance based on the $x$."
   ]
  },
  {
   "cell_type": "code",
   "execution_count": 5,
   "metadata": {
    "scrolled": true
   },
   "outputs": [
    {
     "name": "stdout",
     "output_type": "stream",
     "text": [
      "('likelihood.noise_covar.raw_noise', Parameter containing:\n",
      "tensor([0.], requires_grad=True))\n",
      "('mean_module.constant', Parameter containing:\n",
      "tensor([0.], requires_grad=True))\n",
      "('covar_module.raw_outputscale', Parameter containing:\n",
      "tensor(0., requires_grad=True))\n",
      "('covar_module.base_kernel.raw_lengthscale', Parameter containing:\n",
      "tensor([[0.]], requires_grad=True))\n"
     ]
    }
   ],
   "source": [
    "for x in model.named_parameters():\n",
    "    print(x)"
   ]
  },
  {
   "cell_type": "markdown",
   "metadata": {},
   "source": [
    "1. ```raw_noise``` within ```likelihood``` corresponds to the $\\sigma^2$ noise in the likelihood function ($\\sim \\mathcal{N}(0, \\sigma^2)$)\n",
    "2. ```constant``` within the ```mean_module``` corresponds to the mean of the model.\n",
    "3. ```raw_outputscale``` within the ```covar_module``` corresponds to the scaling factor $\\eta$ (described below).\n",
    "4. ```raw_lengthscale``` within the ```covar_module``` corresponds to the lengthscale $l$ within the covariance module (described below)\n",
    "\n",
    "<body> <center> $likelihood \\sim \\mathcal{N}(0,\\sigma^2)$ </center> </body>\n",
    "    \n",
    "<body> <center> $\\mu(x) = constant$ </center> </body>\n",
    "    \n",
    "<body> <center> $k(x,x') = \\eta * exp\\Big(-\\dfrac{1}{2l^2} |x - x'|^2 \\Big)$ </center> </body>\n"
   ]
  },
  {
   "cell_type": "code",
   "execution_count": 6,
   "metadata": {},
   "outputs": [],
   "source": [
    "# Find optimal model hyperparameters\n",
    "model.train()\n",
    "likelihood.train()\n",
    "training_iter = 500\n",
    "\n",
    "# Use the adam optimizer\n",
    "optimizer = torch.optim.Adam(model.parameters(), lr=0.1)  # Includes GaussianLikelihood parameters\n",
    "\n",
    "# \"Loss\" for GPs - the marginal log likelihood\n",
    "mll = gpytorch.mlls.ExactMarginalLogLikelihood(likelihood, model)\n",
    "\n",
    "for i in range(training_iter):\n",
    "    # Zero gradients from previous iteration\n",
    "    optimizer.zero_grad()\n",
    "    # Output from model\n",
    "    output = model(train_x)\n",
    "    # Calc loss and backprop gradients\n",
    "    loss = -mll(output, train_y)\n",
    "    loss.backward()\n",
    "#     print('Iter %d/%d - Loss: %.3f   lengthscale: %.3f   noise: %.3f' % (\n",
    "#         i + 1, training_iter, loss.item(),\n",
    "#         model.covar_module.base_kernel.lengthscale.item(),\n",
    "#         model.likelihood.noise.item()\n",
    "#     ))\n",
    "    optimizer.step()"
   ]
  },
  {
   "cell_type": "code",
   "execution_count": 7,
   "metadata": {},
   "outputs": [
    {
     "data": {
      "text/plain": [
       "GaussianLikelihood(\n",
       "  (noise_covar): HomoskedasticNoise(\n",
       "    (raw_noise_constraint): GreaterThan(1.000E-04)\n",
       "  )\n",
       ")"
      ]
     },
     "execution_count": 7,
     "metadata": {},
     "output_type": "execute_result"
    }
   ],
   "source": [
    "model.eval()\n",
    "likelihood.eval()"
   ]
  },
  {
   "cell_type": "code",
   "execution_count": 8,
   "metadata": {},
   "outputs": [
    {
     "name": "stderr",
     "output_type": "stream",
     "text": [
      "/Users/jaymehta/miniconda3/lib/python3.7/site-packages/gpytorch/utils/cholesky.py:44: NumericalWarning: A not p.d., added jitter of 9.999999999999999e-06 to the diagonal\n",
      "  warnings.warn(f\"A not p.d., added jitter of {jitter_new} to the diagonal\", NumericalWarning)\n"
     ]
    }
   ],
   "source": [
    "test_x = torch.linspace(0, 10 , 100)\n",
    "f_pred = model(test_x)\n",
    "y_pred = likelihood(model(test_x))\n",
    "\n",
    "f_mean = f_pred.mean\n",
    "f_var = f_pred.variance\n",
    "f_covar = f_pred.covariance_matrix\n",
    "f_samples = f_pred.sample(sample_shape=torch.Size([100]))"
   ]
  },
  {
   "cell_type": "code",
   "execution_count": 9,
   "metadata": {},
   "outputs": [],
   "source": [
    "with torch.no_grad(), gpytorch.settings.fast_pred_var():\n",
    "#     test_x = torch.linspace(0, 1, 51)\n",
    "    observed_pred = likelihood(model(test_x))"
   ]
  },
  {
   "cell_type": "code",
   "execution_count": 27,
   "metadata": {},
   "outputs": [
    {
     "data": {
      "image/png": "[encoded data removed]",
      "text/plain": [
       "<Figure size 288x216 with 1 Axes>"
      ]
     },
     "metadata": {
      "needs_background": "light"
     },
     "output_type": "display_data"
    }
   ],
   "source": [
    "with torch.no_grad():\n",
    "    # Initialize plot\n",
    "    f, ax = plt.subplots(1, 1, figsize=(4, 3))\n",
    "\n",
    "    # Get upper and lower confidence bounds\n",
    "    lower, upper = observed_pred.confidence_region()\n",
    "    # Plot training data as black stars\n",
    "    ax.plot(train_x.numpy(), train_y.numpy(), 'k*')\n",
    "    # Plot predictive means as blue line\n",
    "    ax.plot(test_x.numpy(), observed_pred.mean.numpy(), 'b')\n",
    "    # Shade between the lower and upper confidence bounds\n",
    "    ax.fill_between(test_x.numpy(), lower.numpy(), upper.numpy(), alpha=0.5)\n",
    "#     ax.set_ylim([-3, 3])\n",
    "    ax.legend(['Observed Data', 'Mean', 'Confidence'])\n",
    "    ax.set_xlabel('Time(s)')\n",
    "    ax.set_ylabel('Position(m)')"
   ]
  },
  {
   "cell_type": "markdown",
   "metadata": {},
   "source": [
    "Note here that the blue line is almost having the correct slop until the end of the data where there is a lack of data. The line is flattening as it starts to revert to the prior for $\\mu$ which was a constant."
   ]
  },
  {
   "cell_type": "code",
   "execution_count": null,
   "metadata": {},
   "outputs": [],
   "source": []
  }
 ],
 "metadata": {
  "kernelspec": {
   "display_name": "Python 3",
   "language": "python",
   "name": "python3"
  },
  "language_info": {
   "codemirror_mode": {
    "name": "ipython",
    "version": 3
   },
   "file_extension": ".py",
   "mimetype": "text/x-python",
   "name": "python",
   "nbconvert_exporter": "python",
   "pygments_lexer": "ipython3",
   "version": "3.7.2"
  }
 },
 "nbformat": 4,
 "nbformat_minor": 4
}
